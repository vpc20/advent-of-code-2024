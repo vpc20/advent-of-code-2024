{
 "cells": [
  {
   "cell_type": "raw",
   "id": "31c2a370-651d-4d93-b3de-277c8b2b1eab",
   "metadata": {},
   "source": [
    "\n",
    "Button A: X+94, Y+34\n",
    "Button B: X+22, Y+67\n",
    "Prize: X=8400, Y=5400\n",
    "\n",
    "Button A: X+26, Y+66\n",
    "Button B: X+67, Y+21\n",
    "Prize: X=12748, Y=12176\n",
    "\n",
    "Button A: X+17, Y+86\n",
    "Button B: X+84, Y+37\n",
    "Prize: X=7870, Y=6450\n",
    "\n",
    "Button A: X+69, Y+23\n",
    "Button B: X+27, Y+71\n",
    "Prize: X=18641, Y=10279\n"
   ]
  },
  {
   "cell_type": "raw",
   "id": "c4fe6231-994d-4917-b25e-7d7929b5aeb3",
   "metadata": {},
   "source": [
    "\n",
    "ca*94 + cb*22 = 8400\n",
    "ca*34 + cb*67 = 5400\n",
    "\n",
    "ca*ax + cb*bx = px\n",
    "ca*ay + cb*by = py\n"
   ]
  },
  {
   "cell_type": "raw",
   "id": "aceeb081-2aed-44e0-b34d-a61e7cb1f067",
   "metadata": {},
   "source": [
    "\n",
    "ax  ay  bx  by  px    py\n",
    "94  34  22  67  8400  5400\n",
    "\n",
    "\n",
    "\n",
    "\n",
    "\n"
   ]
  }
 ],
 "metadata": {
  "kernelspec": {
   "display_name": "Python 3 (ipykernel)",
   "language": "python",
   "name": "python3"
  },
  "language_info": {
   "codemirror_mode": {
    "name": "ipython",
    "version": 3
   },
   "file_extension": ".py",
   "mimetype": "text/x-python",
   "name": "python",
   "nbconvert_exporter": "python",
   "pygments_lexer": "ipython3",
   "version": "3.11.3"
  }
 },
 "nbformat": 4,
 "nbformat_minor": 5
}
